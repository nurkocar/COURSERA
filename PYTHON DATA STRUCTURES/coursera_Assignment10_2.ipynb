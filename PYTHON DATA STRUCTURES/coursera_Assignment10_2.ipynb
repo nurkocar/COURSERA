{
 "metadata": {
  "language_info": {
   "codemirror_mode": {
    "name": "ipython",
    "version": 3
   },
   "file_extension": ".py",
   "mimetype": "text/x-python",
   "name": "python",
   "nbconvert_exporter": "python",
   "pygments_lexer": "ipython3",
   "version": "3.8.5-final"
  },
  "orig_nbformat": 2,
  "kernelspec": {
   "name": "python3",
   "display_name": "Python 3",
   "language": "python"
  }
 },
 "nbformat": 4,
 "nbformat_minor": 2,
 "cells": [
  {
   "cell_type": "code",
   "execution_count": 1,
   "metadata": {},
   "outputs": [
    {
     "output_type": "stream",
     "name": "stdout",
     "text": [
      "04 3\n06 1\n07 1\n09 2\n10 3\n11 6\n14 1\n15 2\n16 4\n17 2\n18 1\n19 1\n"
     ]
    }
   ],
   "source": [
    "name = input(\"Enter file:\")\n",
    "if len(name) < 1 : name = \"mbox-short.txt\"\n",
    "handle = open(name)\n",
    "\n",
    "hour_dict = dict()\n",
    "\n",
    "for line in handle:\n",
    "    if not 'From ' in line:\n",
    "        continue\n",
    "    words = line.rstrip().split()\n",
    "    time = words[5].split(':')\n",
    "    hour = time[0]    \n",
    "    hour_dict[hour] = hour_dict.get(hour, 0) + 1\n",
    "\n",
    "lst = list()\n",
    "for k, v in hour_dict.items():\n",
    "    new_tup = (k, v)\n",
    "    lst.append(new_tup)\n",
    "    \n",
    "lst = sorted(lst)\n",
    "\n",
    "for k, v in lst:\n",
    "    print(k, v)"
   ]
  },
  {
   "cell_type": "code",
   "execution_count": 4,
   "metadata": {},
   "outputs": [
    {
     "output_type": "stream",
     "name": "stdout",
     "text": [
      "[('04', 3), ('06', 1), ('07', 1), ('09', 2), ('10', 3), ('11', 6), ('14', 1), ('15', 2), ('16', 4), ('17', 2), ('18', 1), ('19', 1)]\n"
     ]
    }
   ],
   "source": [
    "name = input(\"Enter file:\")\n",
    "if len(name) < 1 : name = \"mbox-short.txt\"\n",
    "handle = open(name)\n",
    "\n",
    "hour_dict = dict()\n",
    "\n",
    "for line in handle:\n",
    "    if not 'From ' in line:\n",
    "        continue\n",
    "    words = line.rstrip().split()\n",
    "    time = words[5].split(':')\n",
    "    hour = time[0]    \n",
    "    hour_dict[hour] = hour_dict.get(hour, 0) + 1\n",
    "\n",
    "print(sorted([(k,v) for k,v in hour_dict.items()]))"
   ]
  },
  {
   "cell_type": "code",
   "execution_count": null,
   "metadata": {},
   "outputs": [],
   "source": []
  }
 ]
}